{
 "cells": [
  {
   "cell_type": "code",
   "execution_count": 33,
   "metadata": {},
   "outputs": [],
   "source": [
    "import numpy as np\n",
    "from sklearn.linear_model import SGDRegressor\n",
    "from sklearn.preprocessing import StandardScaler\n",
    "from sklearn.pipeline import Pipeline\n",
    "\n",
    "class MiniBatchSGDRegressor:\n",
    "    def __init__(self):\n",
    "        self.learning_rate = 0.01\n",
    "        self.n_iter = 100\n",
    "        self.batch_size = 32\n",
    "        self.model = Pipeline([\n",
    "            ('scaler', StandardScaler()),\n",
    "            ('regressor', SGDRegressor(\n",
    "                learning_rate='constant',\n",
    "                eta0=0.01,\n",
    "                n_iter_no_change=5,\n",
    "                warm_start=True\n",
    "                ))\n",
    "        ])\n",
    "\n",
    "    def partial_fit(self, pipeline, X, y):\n",
    "        X = pipeline.named_steps['scaler'].fit_transform(X)\n",
    "        pipeline.named_steps['regressor'].partial_fit(X, y)\n",
    "\n",
    "    def iterate_minibatches(self, X, y):\n",
    "        for i in range(0, len(X), self.batch_size):\n",
    "            yield X[i:i + self.batch_size], y[i:i + self.batch_size]\n",
    "\n",
    "    def fit(self, X_train, y_train):\n",
    "        for epoch in range(self.n_iter):\n",
    "            for X_batch, y_batch in self.iterate_minibatches(X_train, y_train):\n",
    "                self.partial_fit(self.model, X_batch, y_batch)\n",
    "    \n",
    "\n",
    "\n",
    "# https://stackoverflow.com/questions/17931865/using-partial-fit-with-scikit-pipeline\n",
    "\n",
    "    def predict(self, X_test):\n",
    "        return self.model.predict(X_test)\n",
    "\n",
    "# Example usage:\n",
    "# Assuming you have X_train, y_train, X_test\n",
    "# model = MiniBatchSGDRegressor()\n",
    "# model.fit(X_train, y_train)\n",
    "# predictions = model.predict(X_test)\n"
   ]
  },
  {
   "cell_type": "code",
   "execution_count": 34,
   "metadata": {},
   "outputs": [],
   "source": [
    "# Import packages\n",
    "\n",
    "import pandas as pd\n",
    "import numpy as np\n",
    "import os\n",
    "from sklearn.metrics import accuracy_score, precision_score, recall_score, f1_score, mean_squared_error, mean_absolute_error, r2_score\n",
    "from util import dict_train_test_split"
   ]
  },
  {
   "cell_type": "code",
   "execution_count": 35,
   "metadata": {},
   "outputs": [
    {
     "name": "stdout",
     "output_type": "stream",
     "text": [
      "The memory_profiler extension is already loaded. To reload it, use:\n",
      "  %reload_ext memory_profiler\n"
     ]
    }
   ],
   "source": [
    "%load_ext memory_profiler"
   ]
  },
  {
   "cell_type": "code",
   "execution_count": 37,
   "metadata": {},
   "outputs": [
    {
     "name": "stdout",
     "output_type": "stream",
     "text": [
      "Mean Squared Error: 1.0294120372968558\n"
     ]
    }
   ],
   "source": [
    "import numpy as np\n",
    "from sklearn.model_selection import train_test_split\n",
    "from sklearn.metrics import mean_squared_error\n",
    "\n",
    "# Set random seed for reproducibility\n",
    "np.random.seed(42)\n",
    "\n",
    "# Generate sample data\n",
    "X = 2 * np.random.rand(1000, 1)\n",
    "y = 4 + 3 * X + np.random.randn(1000, 1)\n",
    "\n",
    "# Split the data into training and testing sets\n",
    "X_train, X_test, y_train, y_test = train_test_split(X, y, test_size=0.2, random_state=42)\n",
    "y_train = y_train.ravel()\n",
    "\n",
    "# Example usage:\n",
    "model = MiniBatchSGDRegressor()\n",
    "model.fit(X_train, y_train)\n",
    "predictions = model.predict(X_test)\n",
    "\n",
    "# Evaluate the model\n",
    "mse = mean_squared_error(y_test, predictions)\n",
    "print(f'Mean Squared Error: {mse}')\n"
   ]
  },
  {
   "cell_type": "code",
   "execution_count": null,
   "metadata": {},
   "outputs": [],
   "source": []
  },
  {
   "cell_type": "code",
   "execution_count": null,
   "metadata": {},
   "outputs": [],
   "source": []
  }
 ],
 "metadata": {
  "kernelspec": {
   "display_name": "cs2109s-2220-final",
   "language": "python",
   "name": "python3"
  },
  "language_info": {
   "codemirror_mode": {
    "name": "ipython",
    "version": 3
   },
   "file_extension": ".py",
   "mimetype": "text/x-python",
   "name": "python",
   "nbconvert_exporter": "python",
   "pygments_lexer": "ipython3",
   "version": "3.10.13"
  }
 },
 "nbformat": 4,
 "nbformat_minor": 2
}
