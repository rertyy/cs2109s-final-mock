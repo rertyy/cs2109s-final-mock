{
 "cells": [
  {
   "cell_type": "markdown",
   "id": "7d017333",
   "metadata": {},
   "source": [
    "# Final Assessment Scratch Pad"
   ]
  },
  {
   "cell_type": "markdown",
   "id": "d3d00386",
   "metadata": {},
   "source": [
    "## Instructions"
   ]
  },
  {
   "cell_type": "markdown",
   "id": "ea516aa7",
   "metadata": {},
   "source": [
    "1. Please use only this Jupyter notebook to work on your model, and **do not use any extra files**. If you need to define helper classes or functions, feel free to do so in this notebook.\n",
    "2. This template is intended to be general, but it may not cover every use case. The sections are given so that it will be easier for us to grade your submission. If your specific use case isn't addressed, **you may add new Markdown or code blocks to this notebook**. However, please **don't delete any existing blocks**.\n",
    "3. If you don't think a particular section of this template is necessary for your work, **you may skip it**. Be sure to explain clearly why you decided to do so."
   ]
  },
  {
   "cell_type": "markdown",
   "id": "022cb4cd",
   "metadata": {},
   "source": [
    "## Report"
   ]
  },
  {
   "cell_type": "markdown",
   "id": "9c14a2d8",
   "metadata": {},
   "source": [
    "**[TODO]**\n",
    "\n",
    "Please provide a summary of the ideas and steps that led you to your final model. Someone reading this summary should understand why you chose to approach the problem in a particular way and able to replicate your final model at a high level. Please ensure that your summary is detailed enough to provide an overview of your thought process and approach but also concise enough to be easily understandable. Also, please follow the guidelines given in the `main.ipynb`.\n",
    "\n",
    "This report should not be longer than **1-2 pages of A4 paper (up to around 1,000 words)**. Marks will be deducted if you do not follow instructions and you include too many words here. \n",
    "\n",
    "**[DELETE EVERYTHING FROM THE PREVIOUS TODO TO HERE BEFORE SUBMISSION]**\n",
    "\n",
    "##### Overview\n",
    "**[TODO]**\n",
    "\n",
    "##### 1. Descriptive Analysis\n",
    "**[TODO]**\n",
    "\n",
    "##### 2. Detection and Handling of Missing Values\n",
    "**[TODO]**\n",
    "\n",
    "##### 3. Detection and Handling of Outliers\n",
    "**[TODO]**\n",
    "\n",
    "##### 4. Detection and Handling of Class Imbalance \n",
    "**[TODO]**\n",
    "\n",
    "##### 5. Understanding Relationship Between Variables\n",
    "**[TODO]**\n",
    "\n",
    "##### 6. Data Visualization\n",
    "**[TODO]** \n",
    "##### 7. General Preprocessing\n",
    "**[TODO]**\n",
    " \n",
    "##### 8. Feature Selection \n",
    "**[TODO]**\n",
    "\n",
    "##### 9. Feature Engineering\n",
    "**[TODO]**\n",
    "\n",
    "##### 10. Creating Models\n",
    "**[TODO]**\n",
    "\n",
    "##### 11. Model Evaluation\n",
    "**[TODO]**\n",
    "\n",
    "##### 12. Hyperparameters Search\n",
    "**[TODO]**\n",
    "\n",
    "##### Conclusion\n",
    "**[TODO]**"
   ]
  },
  {
   "cell_type": "markdown",
   "id": "49dcaf29",
   "metadata": {},
   "source": [
    "---"
   ]
  },
  {
   "cell_type": "markdown",
   "id": "27103374",
   "metadata": {},
   "source": [
    "# Workings (Not Graded)\n",
    "\n",
    "You will do your working below. Note that anything below this section will not be graded, but we might counter-check what you wrote in the report above with your workings to make sure that you actually did what you claimed to have done. "
   ]
  },
  {
   "cell_type": "markdown",
   "id": "0f4c6cd4",
   "metadata": {},
   "source": [
    "## Import Packages\n",
    "\n",
    "Here, we import some packages necessary to run this notebook. In addition, you may import other packages as well. Do note that when submitting your model, you may only use packages that are available in Coursemology (see `main.ipynb`)."
   ]
  },
  {
   "cell_type": "code",
   "execution_count": 6,
   "id": "cded1ed6",
   "metadata": {},
   "outputs": [
    {
     "name": "stdout",
     "output_type": "stream",
     "text": [
      "CPU times: total: 0 ns\n",
      "Wall time: 0 ns\n"
     ]
    }
   ],
   "source": [
    "%%time\n",
    "import pandas as pd\n",
    "import os\n",
    "import numpy as np\n",
    "from util import show_images, dict_train_test_split"
   ]
  },
  {
   "cell_type": "markdown",
   "id": "748c35d7",
   "metadata": {},
   "source": [
    "## Load Dataset\n",
    "\n",
    "The dataset provided is multimodal and contains two components, images and tabular data. The tabular dataset `tabular.csv` contains $N$ entries and $F$ columns, including the target feature. On the other hand, the image dataset `images.npy` is of size $(N, H, W)$, where $N$, $H$, and $W$ correspond to the number of data, image width, and image height, respectively. Each image corresponds to the data in the same index of the tabular dataset. These datasets can be found in the `data/` folder in the given file structure.\n",
    "\n",
    "A code snippet that loads and displays some of the data is provided below.\n",
    "\n",
    "### Load Tabular Data"
   ]
  },
  {
   "cell_type": "code",
   "execution_count": 7,
   "id": "a88be725",
   "metadata": {},
   "outputs": [
    {
     "data": {
      "text/html": [
       "<div>\n",
       "<style scoped>\n",
       "    .dataframe tbody tr th:only-of-type {\n",
       "        vertical-align: middle;\n",
       "    }\n",
       "\n",
       "    .dataframe tbody tr th {\n",
       "        vertical-align: top;\n",
       "    }\n",
       "\n",
       "    .dataframe thead th {\n",
       "        text-align: right;\n",
       "    }\n",
       "</style>\n",
       "<table border=\"1\" class=\"dataframe\">\n",
       "  <thead>\n",
       "    <tr style=\"text-align: right;\">\n",
       "      <th></th>\n",
       "      <th>V0</th>\n",
       "      <th>V1</th>\n",
       "      <th>V2</th>\n",
       "      <th>V3</th>\n",
       "      <th>V4</th>\n",
       "      <th>V5</th>\n",
       "      <th>V6</th>\n",
       "      <th>V7</th>\n",
       "      <th>V8</th>\n",
       "      <th>V9</th>\n",
       "      <th>...</th>\n",
       "      <th>V51</th>\n",
       "      <th>V52</th>\n",
       "      <th>V53</th>\n",
       "      <th>V54</th>\n",
       "      <th>V55</th>\n",
       "      <th>V56</th>\n",
       "      <th>V57</th>\n",
       "      <th>V58</th>\n",
       "      <th>V59</th>\n",
       "      <th>target</th>\n",
       "    </tr>\n",
       "  </thead>\n",
       "  <tbody>\n",
       "    <tr>\n",
       "      <th>0</th>\n",
       "      <td>8315.0</td>\n",
       "      <td>1784.0</td>\n",
       "      <td>21994.0</td>\n",
       "      <td>37115.0</td>\n",
       "      <td>317.0</td>\n",
       "      <td>105.016815</td>\n",
       "      <td>296559.0</td>\n",
       "      <td>321602.0</td>\n",
       "      <td>2470.0</td>\n",
       "      <td>C1</td>\n",
       "      <td>...</td>\n",
       "      <td>C4</td>\n",
       "      <td>C4</td>\n",
       "      <td>834148.0</td>\n",
       "      <td>C2</td>\n",
       "      <td>C6</td>\n",
       "      <td>1089</td>\n",
       "      <td>293</td>\n",
       "      <td>C2</td>\n",
       "      <td>7428.249334</td>\n",
       "      <td>300.0</td>\n",
       "    </tr>\n",
       "    <tr>\n",
       "      <th>1</th>\n",
       "      <td>8315.0</td>\n",
       "      <td>1272.0</td>\n",
       "      <td>11114.0</td>\n",
       "      <td>18683.0</td>\n",
       "      <td>230.0</td>\n",
       "      <td>NaN</td>\n",
       "      <td>340059.0</td>\n",
       "      <td>368602.0</td>\n",
       "      <td>2820.0</td>\n",
       "      <td>C0</td>\n",
       "      <td>...</td>\n",
       "      <td>C7</td>\n",
       "      <td>C7</td>\n",
       "      <td>401668.0</td>\n",
       "      <td>C5</td>\n",
       "      <td>C6</td>\n",
       "      <td>9801</td>\n",
       "      <td>1085</td>\n",
       "      <td>C7</td>\n",
       "      <td>9693.829502</td>\n",
       "      <td>200.0</td>\n",
       "    </tr>\n",
       "    <tr>\n",
       "      <th>2</th>\n",
       "      <td>8315.0</td>\n",
       "      <td>3832.0</td>\n",
       "      <td>65514.0</td>\n",
       "      <td>147707.0</td>\n",
       "      <td>607.0</td>\n",
       "      <td>105.018240</td>\n",
       "      <td>279159.0</td>\n",
       "      <td>302802.0</td>\n",
       "      <td>2330.0</td>\n",
       "      <td>C1</td>\n",
       "      <td>...</td>\n",
       "      <td>C7</td>\n",
       "      <td>C7</td>\n",
       "      <td>820948.0</td>\n",
       "      <td>C5</td>\n",
       "      <td>C4</td>\n",
       "      <td>1485</td>\n",
       "      <td>304</td>\n",
       "      <td>C6</td>\n",
       "      <td>7609.258214</td>\n",
       "      <td>50.0</td>\n",
       "    </tr>\n",
       "    <tr>\n",
       "      <th>3</th>\n",
       "      <td>8315.0</td>\n",
       "      <td>2296.0</td>\n",
       "      <td>32874.0</td>\n",
       "      <td>55547.0</td>\n",
       "      <td>404.0</td>\n",
       "      <td>NaN</td>\n",
       "      <td>313959.0</td>\n",
       "      <td>340402.0</td>\n",
       "      <td>2610.0</td>\n",
       "      <td>C1</td>\n",
       "      <td>...</td>\n",
       "      <td>C7</td>\n",
       "      <td>C7</td>\n",
       "      <td>1664548.0</td>\n",
       "      <td>C5</td>\n",
       "      <td>C5</td>\n",
       "      <td>-495</td>\n",
       "      <td>711</td>\n",
       "      <td>C4</td>\n",
       "      <td>4258.532609</td>\n",
       "      <td>140.0</td>\n",
       "    </tr>\n",
       "    <tr>\n",
       "      <th>4</th>\n",
       "      <td>11021.0</td>\n",
       "      <td>1784.0</td>\n",
       "      <td>21994.0</td>\n",
       "      <td>37115.0</td>\n",
       "      <td>375.0</td>\n",
       "      <td>105.024985</td>\n",
       "      <td>232701.0</td>\n",
       "      <td>252606.0</td>\n",
       "      <td>1490.0</td>\n",
       "      <td>C0</td>\n",
       "      <td>...</td>\n",
       "      <td>C7</td>\n",
       "      <td>C7</td>\n",
       "      <td>735748.0</td>\n",
       "      <td>C2</td>\n",
       "      <td>C9</td>\n",
       "      <td>1683</td>\n",
       "      <td>117</td>\n",
       "      <td>C0</td>\n",
       "      <td>9492.484802</td>\n",
       "      <td>20.0</td>\n",
       "    </tr>\n",
       "    <tr>\n",
       "      <th>...</th>\n",
       "      <td>...</td>\n",
       "      <td>...</td>\n",
       "      <td>...</td>\n",
       "      <td>...</td>\n",
       "      <td>...</td>\n",
       "      <td>...</td>\n",
       "      <td>...</td>\n",
       "      <td>...</td>\n",
       "      <td>...</td>\n",
       "      <td>...</td>\n",
       "      <td>...</td>\n",
       "      <td>...</td>\n",
       "      <td>...</td>\n",
       "      <td>...</td>\n",
       "      <td>...</td>\n",
       "      <td>...</td>\n",
       "      <td>...</td>\n",
       "      <td>...</td>\n",
       "      <td>...</td>\n",
       "      <td>...</td>\n",
       "      <td>...</td>\n",
       "    </tr>\n",
       "    <tr>\n",
       "      <th>357694</th>\n",
       "      <td>8315.0</td>\n",
       "      <td>1272.0</td>\n",
       "      <td>11114.0</td>\n",
       "      <td>18683.0</td>\n",
       "      <td>230.0</td>\n",
       "      <td>105.012445</td>\n",
       "      <td>270459.0</td>\n",
       "      <td>293402.0</td>\n",
       "      <td>2260.0</td>\n",
       "      <td>C0</td>\n",
       "      <td>...</td>\n",
       "      <td>C2</td>\n",
       "      <td>C2</td>\n",
       "      <td>25708.0</td>\n",
       "      <td>NaN</td>\n",
       "      <td>C4</td>\n",
       "      <td>6336</td>\n",
       "      <td>1855</td>\n",
       "      <td>C2</td>\n",
       "      <td>4634.276235</td>\n",
       "      <td>30.0</td>\n",
       "    </tr>\n",
       "    <tr>\n",
       "      <th>357695</th>\n",
       "      <td>8315.0</td>\n",
       "      <td>2296.0</td>\n",
       "      <td>32874.0</td>\n",
       "      <td>55547.0</td>\n",
       "      <td>404.0</td>\n",
       "      <td>NaN</td>\n",
       "      <td>244359.0</td>\n",
       "      <td>265202.0</td>\n",
       "      <td>2050.0</td>\n",
       "      <td>C0</td>\n",
       "      <td>...</td>\n",
       "      <td>C7</td>\n",
       "      <td>C7</td>\n",
       "      <td>820948.0</td>\n",
       "      <td>C5</td>\n",
       "      <td>C9</td>\n",
       "      <td>2970</td>\n",
       "      <td>854</td>\n",
       "      <td>C8</td>\n",
       "      <td>8379.073980</td>\n",
       "      <td>190.0</td>\n",
       "    </tr>\n",
       "    <tr>\n",
       "      <th>357696</th>\n",
       "      <td>8315.0</td>\n",
       "      <td>1784.0</td>\n",
       "      <td>21994.0</td>\n",
       "      <td>37115.0</td>\n",
       "      <td>375.0</td>\n",
       "      <td>NaN</td>\n",
       "      <td>348759.0</td>\n",
       "      <td>378002.0</td>\n",
       "      <td>2890.0</td>\n",
       "      <td>C0</td>\n",
       "      <td>...</td>\n",
       "      <td>C7</td>\n",
       "      <td>C7</td>\n",
       "      <td>1212748.0</td>\n",
       "      <td>C5</td>\n",
       "      <td>C9</td>\n",
       "      <td>-4257</td>\n",
       "      <td>942</td>\n",
       "      <td>C8</td>\n",
       "      <td>5359.986193</td>\n",
       "      <td>140.0</td>\n",
       "    </tr>\n",
       "    <tr>\n",
       "      <th>357697</th>\n",
       "      <td>8315.0</td>\n",
       "      <td>1784.0</td>\n",
       "      <td>21994.0</td>\n",
       "      <td>37115.0</td>\n",
       "      <td>375.0</td>\n",
       "      <td>105.016815</td>\n",
       "      <td>348759.0</td>\n",
       "      <td>378002.0</td>\n",
       "      <td>2890.0</td>\n",
       "      <td>C0</td>\n",
       "      <td>...</td>\n",
       "      <td>C7</td>\n",
       "      <td>C7</td>\n",
       "      <td>1664548.0</td>\n",
       "      <td>C5</td>\n",
       "      <td>C8</td>\n",
       "      <td>2376</td>\n",
       "      <td>1195</td>\n",
       "      <td>C7</td>\n",
       "      <td>9095.239127</td>\n",
       "      <td>180.0</td>\n",
       "    </tr>\n",
       "    <tr>\n",
       "      <th>357698</th>\n",
       "      <td>8315.0</td>\n",
       "      <td>1784.0</td>\n",
       "      <td>21994.0</td>\n",
       "      <td>37115.0</td>\n",
       "      <td>317.0</td>\n",
       "      <td>NaN</td>\n",
       "      <td>244359.0</td>\n",
       "      <td>265202.0</td>\n",
       "      <td>2050.0</td>\n",
       "      <td>C0</td>\n",
       "      <td>...</td>\n",
       "      <td>C7</td>\n",
       "      <td>C7</td>\n",
       "      <td>820948.0</td>\n",
       "      <td>C5</td>\n",
       "      <td>C9</td>\n",
       "      <td>9108</td>\n",
       "      <td>502</td>\n",
       "      <td>C3</td>\n",
       "      <td>9379.720939</td>\n",
       "      <td>70.0</td>\n",
       "    </tr>\n",
       "  </tbody>\n",
       "</table>\n",
       "<p>357699 rows × 61 columns</p>\n",
       "</div>"
      ],
      "text/plain": [
       "             V0      V1       V2        V3     V4          V5        V6  \\\n",
       "0        8315.0  1784.0  21994.0   37115.0  317.0  105.016815  296559.0   \n",
       "1        8315.0  1272.0  11114.0   18683.0  230.0         NaN  340059.0   \n",
       "2        8315.0  3832.0  65514.0  147707.0  607.0  105.018240  279159.0   \n",
       "3        8315.0  2296.0  32874.0   55547.0  404.0         NaN  313959.0   \n",
       "4       11021.0  1784.0  21994.0   37115.0  375.0  105.024985  232701.0   \n",
       "...         ...     ...      ...       ...    ...         ...       ...   \n",
       "357694   8315.0  1272.0  11114.0   18683.0  230.0  105.012445  270459.0   \n",
       "357695   8315.0  2296.0  32874.0   55547.0  404.0         NaN  244359.0   \n",
       "357696   8315.0  1784.0  21994.0   37115.0  375.0         NaN  348759.0   \n",
       "357697   8315.0  1784.0  21994.0   37115.0  375.0  105.016815  348759.0   \n",
       "357698   8315.0  1784.0  21994.0   37115.0  317.0         NaN  244359.0   \n",
       "\n",
       "              V7      V8  V9  ...  V51  V52        V53  V54  V55   V56   V57  \\\n",
       "0       321602.0  2470.0  C1  ...   C4   C4   834148.0   C2   C6  1089   293   \n",
       "1       368602.0  2820.0  C0  ...   C7   C7   401668.0   C5   C6  9801  1085   \n",
       "2       302802.0  2330.0  C1  ...   C7   C7   820948.0   C5   C4  1485   304   \n",
       "3       340402.0  2610.0  C1  ...   C7   C7  1664548.0   C5   C5  -495   711   \n",
       "4       252606.0  1490.0  C0  ...   C7   C7   735748.0   C2   C9  1683   117   \n",
       "...          ...     ...  ..  ...  ...  ...        ...  ...  ...   ...   ...   \n",
       "357694  293402.0  2260.0  C0  ...   C2   C2    25708.0  NaN   C4  6336  1855   \n",
       "357695  265202.0  2050.0  C0  ...   C7   C7   820948.0   C5   C9  2970   854   \n",
       "357696  378002.0  2890.0  C0  ...   C7   C7  1212748.0   C5   C9 -4257   942   \n",
       "357697  378002.0  2890.0  C0  ...   C7   C7  1664548.0   C5   C8  2376  1195   \n",
       "357698  265202.0  2050.0  C0  ...   C7   C7   820948.0   C5   C9  9108   502   \n",
       "\n",
       "        V58          V59 target  \n",
       "0        C2  7428.249334  300.0  \n",
       "1        C7  9693.829502  200.0  \n",
       "2        C6  7609.258214   50.0  \n",
       "3        C4  4258.532609  140.0  \n",
       "4        C0  9492.484802   20.0  \n",
       "...     ...          ...    ...  \n",
       "357694   C2  4634.276235   30.0  \n",
       "357695   C8  8379.073980  190.0  \n",
       "357696   C8  5359.986193  140.0  \n",
       "357697   C7  9095.239127  180.0  \n",
       "357698   C3  9379.720939   70.0  \n",
       "\n",
       "[357699 rows x 61 columns]"
      ]
     },
     "execution_count": 7,
     "metadata": {},
     "output_type": "execute_result"
    }
   ],
   "source": [
    "df = pd.read_csv(os.path.join('data', 'tabular.csv'))\n",
    "df"
   ]
  },
  {
   "cell_type": "markdown",
   "id": "c09da291",
   "metadata": {},
   "source": [
    "### Load Image Data"
   ]
  },
  {
   "cell_type": "code",
   "execution_count": null,
   "id": "6297e25a",
   "metadata": {},
   "outputs": [],
   "source": [
    "with open(os.path.join('data', 'images.npy'), 'rb') as f:\n",
    "    images = np.load(f)\n",
    "    \n",
    "print('Shape:', images.shape)\n",
    "show_images(images[:10], n_row=2, n_col=5, figsize=[12,5])"
   ]
  },
  {
   "cell_type": "markdown",
   "id": "cbe832b6",
   "metadata": {},
   "source": [
    "## Data Exploration & Preparation"
   ]
  },
  {
   "cell_type": "markdown",
   "id": "2f6a464c",
   "metadata": {},
   "source": [
    "### 1. Descriptive Analysis"
   ]
  },
  {
   "cell_type": "code",
   "execution_count": null,
   "id": "3b1f62dd",
   "metadata": {},
   "outputs": [],
   "source": []
  },
  {
   "cell_type": "markdown",
   "id": "adb61967",
   "metadata": {},
   "source": [
    "### 2. Detection and Handling of Missing Values"
   ]
  },
  {
   "cell_type": "code",
   "execution_count": null,
   "id": "4bb9cdfb",
   "metadata": {},
   "outputs": [],
   "source": []
  },
  {
   "cell_type": "markdown",
   "id": "8adcb9cd",
   "metadata": {},
   "source": [
    "### 3. Detection and Handling of Outliers"
   ]
  },
  {
   "cell_type": "code",
   "execution_count": null,
   "id": "ed1c17a1",
   "metadata": {},
   "outputs": [],
   "source": []
  },
  {
   "cell_type": "markdown",
   "id": "d4916043",
   "metadata": {},
   "source": [
    "### 4. Detection and Handling of Class Imbalance"
   ]
  },
  {
   "cell_type": "code",
   "execution_count": null,
   "id": "ad3ab20e",
   "metadata": {},
   "outputs": [],
   "source": []
  },
  {
   "cell_type": "markdown",
   "id": "2552a795",
   "metadata": {},
   "source": [
    "### 5. Understanding Relationship Between Variables"
   ]
  },
  {
   "cell_type": "code",
   "execution_count": null,
   "id": "29ddbbcf",
   "metadata": {},
   "outputs": [],
   "source": []
  },
  {
   "cell_type": "markdown",
   "id": "757fb315",
   "metadata": {},
   "source": [
    "### 6. Data Visualization"
   ]
  },
  {
   "cell_type": "code",
   "execution_count": null,
   "id": "93f82e42",
   "metadata": {},
   "outputs": [],
   "source": []
  },
  {
   "cell_type": "markdown",
   "id": "2a7eebcf",
   "metadata": {},
   "source": [
    "## Data Preprocessing"
   ]
  },
  {
   "cell_type": "markdown",
   "id": "ae3e3383",
   "metadata": {},
   "source": [
    "### 7. General Preprocessing"
   ]
  },
  {
   "cell_type": "code",
   "execution_count": null,
   "id": "19174365",
   "metadata": {},
   "outputs": [],
   "source": []
  },
  {
   "cell_type": "markdown",
   "id": "fb3aa527",
   "metadata": {},
   "source": [
    "### 8. Feature Selection"
   ]
  },
  {
   "cell_type": "code",
   "execution_count": null,
   "id": "a85808bf",
   "metadata": {},
   "outputs": [],
   "source": []
  },
  {
   "cell_type": "markdown",
   "id": "4921e8ca",
   "metadata": {},
   "source": [
    "### 9. Feature Engineering"
   ]
  },
  {
   "cell_type": "code",
   "execution_count": null,
   "id": "dbcde626",
   "metadata": {},
   "outputs": [],
   "source": []
  },
  {
   "cell_type": "markdown",
   "id": "fa676c3f",
   "metadata": {},
   "source": [
    "## Modeling & Evaluation"
   ]
  },
  {
   "cell_type": "markdown",
   "id": "589b37e4",
   "metadata": {},
   "source": [
    "### 10. Creating models"
   ]
  },
  {
   "cell_type": "code",
   "execution_count": null,
   "id": "d8dffd7d",
   "metadata": {},
   "outputs": [],
   "source": []
  },
  {
   "cell_type": "markdown",
   "id": "495bf3c0",
   "metadata": {},
   "source": [
    "### 11. Model Evaluation"
   ]
  },
  {
   "cell_type": "code",
   "execution_count": null,
   "id": "9245ab47",
   "metadata": {},
   "outputs": [],
   "source": []
  },
  {
   "cell_type": "markdown",
   "id": "8aa31404",
   "metadata": {},
   "source": [
    "### 12. Hyperparameters Search"
   ]
  },
  {
   "cell_type": "code",
   "execution_count": null,
   "id": "81addd51",
   "metadata": {},
   "outputs": [],
   "source": []
  }
 ],
 "metadata": {
  "kernelspec": {
   "display_name": "Python 3 (ipykernel)",
   "language": "python",
   "name": "python3"
  },
  "language_info": {
   "codemirror_mode": {
    "name": "ipython",
    "version": 3
   },
   "file_extension": ".py",
   "mimetype": "text/x-python",
   "name": "python",
   "nbconvert_exporter": "python",
   "pygments_lexer": "ipython3",
   "version": "3.10.13"
  }
 },
 "nbformat": 4,
 "nbformat_minor": 5
}
